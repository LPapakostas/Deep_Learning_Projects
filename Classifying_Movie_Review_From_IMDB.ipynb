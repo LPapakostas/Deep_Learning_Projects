{
  "nbformat": 4,
  "nbformat_minor": 0,
  "metadata": {
    "colab": {
      "name": "Classifying_Movie_Review_From_IMDB.ipynb",
      "provenance": [],
      "collapsed_sections": [],
      "include_colab_link": true
    },
    "kernelspec": {
      "name": "python3",
      "display_name": "Python 3"
    }
  },
  "cells": [
    {
      "cell_type": "markdown",
      "metadata": {
        "id": "view-in-github",
        "colab_type": "text"
      },
      "source": [
        "<a href=\"https://colab.research.google.com/github/LPapakostas/Deep_Learning_Projects/blob/master/Classifying_Movie_Review_From_IMDB.ipynb\" target=\"_parent\"><img src=\"https://colab.research.google.com/assets/colab-badge.svg\" alt=\"Open In Colab\"/></a>"
      ]
    },
    {
      "cell_type": "code",
      "metadata": {
        "id": "Ie1WMchONqs0",
        "colab_type": "code",
        "colab": {}
      },
      "source": [
        "import tensorflow as tf\n",
        "from tensorflow.keras.datasets import imdb\n",
        "\n",
        "priority_of_word = 10000"
      ],
      "execution_count": 0,
      "outputs": []
    },
    {
      "cell_type": "code",
      "metadata": {
        "id": "r9O_9mdjOeg9",
        "colab_type": "code",
        "colab": {}
      },
      "source": [
        "(train_data,train_labels) , (test_data,test_labels) = imdb.load_data(num_words=priority_of_word)"
      ],
      "execution_count": 0,
      "outputs": []
    },
    {
      "cell_type": "markdown",
      "metadata": {
        "id": "dZTpQfoKOu2C",
        "colab_type": "text"
      },
      "source": [
        "The argument **num_words=10000** means that we will keep only the top 10000 most frequently used words in the training data."
      ]
    },
    {
      "cell_type": "markdown",
      "metadata": {
        "id": "NsqH1q7jPLrX",
        "colab_type": "text"
      },
      "source": [
        "The **train_data** and **test_data** variables are lists of reviews that each review being a list of word indices. **train_labels** and **test_labels** are lists of '0' and '1' with '0' being negative and '1' positive. All reviews words are permitted below to upper limit **num_words**. "
      ]
    },
    {
      "cell_type": "code",
      "metadata": {
        "id": "b_E--8BAPvJ3",
        "colab_type": "code",
        "outputId": "7d91eea4-a48c-477d-9ae3-88ef522f5bfe",
        "colab": {
          "base_uri": "https://localhost:8080/",
          "height": 34
        }
      },
      "source": [
        "max([max(length) for length in train_data])"
      ],
      "execution_count": 0,
      "outputs": [
        {
          "output_type": "execute_result",
          "data": {
            "text/plain": [
              "9999"
            ]
          },
          "metadata": {
            "tags": []
          },
          "execution_count": 42
        }
      ]
    },
    {
      "cell_type": "code",
      "metadata": {
        "id": "G2QPTNYZSr7C",
        "colab_type": "code",
        "colab": {}
      },
      "source": [
        "# word_index is a dictionary mapping words to an integer index\n",
        "word_index = imdb.get_word_index()\n",
        "# We reverse it, mapping integer indices to words\n",
        "reverse_word_index = dict([(value, key) for (key, value) in word_index.items()])\n",
        "# We decode the review; note that our indices were offset by 3\n",
        "# because 0, 1 and 2 are reserved indices for \"padding\", \"start of sequence\", and \"unknown\".\n",
        "decoded_review = ' '.join([reverse_word_index.get(i - 3, '?') for i in train_data[0]])\n"
      ],
      "execution_count": 0,
      "outputs": []
    },
    {
      "cell_type": "code",
      "metadata": {
        "id": "xtZfsPFDTVXI",
        "colab_type": "code",
        "outputId": "3052de70-0122-459e-c3d9-70679feacc7d",
        "colab": {
          "base_uri": "https://localhost:8080/",
          "height": 54
        }
      },
      "source": [
        "decoded_review\n"
      ],
      "execution_count": 0,
      "outputs": [
        {
          "output_type": "execute_result",
          "data": {
            "text/plain": [
              "\"? this film was just brilliant casting location scenery story direction everyone's really suited the part they played and you could just imagine being there robert ? is an amazing actor and now the same being director ? father came from the same scottish island as myself so i loved the fact there was a real connection with this film the witty remarks throughout the film were great it was just brilliant so much that i bought the film as soon as it was released for ? and would recommend it to everyone to watch and the fly fishing was amazing really cried at the end it was so sad and you know what they say if you cry at a film it must have been good and this definitely was also ? to the two little boy's that played the ? of norman and paul they were just brilliant children are often left out of the ? list i think because the stars that play them all grown up are such a big profile for the whole film but these children are amazing and should be praised for what they have done don't you think the whole story was so lovely because it was true and was someone's life after all that was shared with us all\""
            ]
          },
          "metadata": {
            "tags": []
          },
          "execution_count": 44
        }
      ]
    },
    {
      "cell_type": "markdown",
      "metadata": {
        "id": "QmSSJ_PBWQtM",
        "colab_type": "text"
      },
      "source": [
        "We need to make all of **train_data** and **test_data** same length in order to use it as a tensor for network input. In order to do that, we will make a reference table of **num_words** length that contains '1' and '0' in presence of i-word. "
      ]
    },
    {
      "cell_type": "code",
      "metadata": {
        "id": "9XbdDBS7Xx0Q",
        "colab_type": "code",
        "colab": {}
      },
      "source": [
        "import numpy as np"
      ],
      "execution_count": 0,
      "outputs": []
    },
    {
      "cell_type": "code",
      "metadata": {
        "id": "7DlL1c8mX2I6",
        "colab_type": "code",
        "colab": {}
      },
      "source": [
        "def vectorize_sequences(sequences,dimension):\n",
        "    results = np.zeros((len(sequences),dimension))\n",
        "    for i,sequence in enumerate(sequences):\n",
        "        results[i,sequence] = 1\n",
        "    return results"
      ],
      "execution_count": 0,
      "outputs": []
    },
    {
      "cell_type": "code",
      "metadata": {
        "id": "BQzgOu_FZBxJ",
        "colab_type": "code",
        "colab": {}
      },
      "source": [
        "x_train = vectorize_sequences(train_data,priority_of_word)\n",
        "x_test = vectorize_sequences(test_data,priority_of_word)"
      ],
      "execution_count": 0,
      "outputs": []
    },
    {
      "cell_type": "code",
      "metadata": {
        "id": "JmyAEOZrbHjG",
        "colab_type": "code",
        "colab": {}
      },
      "source": [
        "y_train = np.asarray(train_labels).astype('float32')\n",
        "y_test = np.asarray(test_labels).astype('float32')"
      ],
      "execution_count": 0,
      "outputs": []
    },
    {
      "cell_type": "code",
      "metadata": {
        "id": "ylOD4y967qox",
        "colab_type": "code",
        "colab": {}
      },
      "source": [
        "from tensorflow.keras import models\n",
        "from tensorflow.keras import layers\n",
        "from tensorflow.keras import optimizers\n"
      ],
      "execution_count": 0,
      "outputs": []
    },
    {
      "cell_type": "markdown",
      "metadata": {
        "id": "ALS97JSd-zVj",
        "colab_type": "text"
      },
      "source": [
        "We will use a model with 2 initial *Dense* layers that have 16 hidden unit with *'relu'* activation and the final layer with *'sigmoid'* activation that interprented as a probability of a review being 0 or 1."
      ]
    },
    {
      "cell_type": "code",
      "metadata": {
        "id": "GLuAfgw371iH",
        "colab_type": "code",
        "colab": {}
      },
      "source": [
        "model = models.Sequential()\n",
        "model.add( layers.Dense(units = 16 , activation = 'relu' , input_shape=(priority_of_word,) ))\n",
        "model.add( layers.Dense( units =16, activation = 'relu'))\n",
        "model.add( layers.Dense(units = 1, activation ='sigmoid'))"
      ],
      "execution_count": 0,
      "outputs": []
    },
    {
      "cell_type": "markdown",
      "metadata": {
        "id": "iHXIEbrT_P3-",
        "colab_type": "text"
      },
      "source": [
        "Since we face a binary classification problem and  the output of the network is a probability, we use as loss function *'binary crossentropy'*.\n",
        "Cross Entropy is a quantity that measures the distance between probability distributions."
      ]
    },
    {
      "cell_type": "code",
      "metadata": {
        "id": "QB-d_Dii_xSG",
        "colab_type": "code",
        "colab": {}
      },
      "source": [
        "model.compile( optimizer = optimizers.RMSprop(lr =0.001) , loss ='binary_crossentropy' , metrics =['accuracy'])"
      ],
      "execution_count": 0,
      "outputs": []
    },
    {
      "cell_type": "code",
      "metadata": {
        "id": "YBuiKOJMEEIE",
        "colab_type": "code",
        "colab": {}
      },
      "source": [
        "x_val = x_train[:10000]\n",
        "partial_x_train = x_train[10000:]\n",
        "\n",
        "y_val = y_train[:10000]\n",
        "partial_y_train = y_train[10000:]"
      ],
      "execution_count": 0,
      "outputs": []
    },
    {
      "cell_type": "code",
      "metadata": {
        "id": "j_SQH2ZTFGic",
        "colab_type": "code",
        "outputId": "72725611-8510-415d-8607-03c7af0f648a",
        "colab": {
          "base_uri": "https://localhost:8080/",
          "height": 729
        }
      },
      "source": [
        "history = model.fit( partial_x_train , partial_y_train , epochs = 20 ,  batch_size = 512 , validation_data = (x_val,y_val) )"
      ],
      "execution_count": 0,
      "outputs": [
        {
          "output_type": "stream",
          "text": [
            "Train on 15000 samples, validate on 10000 samples\n",
            "Epoch 1/20\n",
            "15000/15000 [==============================] - 3s 210us/sample - loss: 0.5761 - acc: 0.7371 - val_loss: 0.4815 - val_acc: 0.8140\n",
            "Epoch 2/20\n",
            "15000/15000 [==============================] - 3s 198us/sample - loss: 0.3857 - acc: 0.8885 - val_loss: 0.3539 - val_acc: 0.8838\n",
            "Epoch 3/20\n",
            "15000/15000 [==============================] - 3s 198us/sample - loss: 0.2718 - acc: 0.9195 - val_loss: 0.2998 - val_acc: 0.8897\n",
            "Epoch 4/20\n",
            "15000/15000 [==============================] - 3s 195us/sample - loss: 0.2058 - acc: 0.9376 - val_loss: 0.2901 - val_acc: 0.8867\n",
            "Epoch 5/20\n",
            "15000/15000 [==============================] - 3s 194us/sample - loss: 0.1627 - acc: 0.9512 - val_loss: 0.2838 - val_acc: 0.8873\n",
            "Epoch 6/20\n",
            "15000/15000 [==============================] - 3s 193us/sample - loss: 0.1339 - acc: 0.9607 - val_loss: 0.2872 - val_acc: 0.8887\n",
            "Epoch 7/20\n",
            "15000/15000 [==============================] - 3s 193us/sample - loss: 0.1120 - acc: 0.9685 - val_loss: 0.3056 - val_acc: 0.8826\n",
            "Epoch 8/20\n",
            "15000/15000 [==============================] - 3s 194us/sample - loss: 0.0915 - acc: 0.9766 - val_loss: 0.3200 - val_acc: 0.8833\n",
            "Epoch 9/20\n",
            "15000/15000 [==============================] - 3s 193us/sample - loss: 0.0756 - acc: 0.9804 - val_loss: 0.3438 - val_acc: 0.8813\n",
            "Epoch 10/20\n",
            "15000/15000 [==============================] - 3s 196us/sample - loss: 0.0644 - acc: 0.9844 - val_loss: 0.3688 - val_acc: 0.8774\n",
            "Epoch 11/20\n",
            "15000/15000 [==============================] - 3s 192us/sample - loss: 0.0499 - acc: 0.9896 - val_loss: 0.4639 - val_acc: 0.8648\n",
            "Epoch 12/20\n",
            "15000/15000 [==============================] - 3s 195us/sample - loss: 0.0415 - acc: 0.9913 - val_loss: 0.4236 - val_acc: 0.8752\n",
            "Epoch 13/20\n",
            "15000/15000 [==============================] - 3s 195us/sample - loss: 0.0340 - acc: 0.9933 - val_loss: 0.4504 - val_acc: 0.8735\n",
            "Epoch 14/20\n",
            "15000/15000 [==============================] - 3s 193us/sample - loss: 0.0278 - acc: 0.9941 - val_loss: 0.4871 - val_acc: 0.8715\n",
            "Epoch 15/20\n",
            "15000/15000 [==============================] - 3s 193us/sample - loss: 0.0206 - acc: 0.9971 - val_loss: 0.5139 - val_acc: 0.8709\n",
            "Epoch 16/20\n",
            "15000/15000 [==============================] - 3s 195us/sample - loss: 0.0190 - acc: 0.9963 - val_loss: 0.5468 - val_acc: 0.8701\n",
            "Epoch 17/20\n",
            "15000/15000 [==============================] - 3s 195us/sample - loss: 0.0106 - acc: 0.9990 - val_loss: 0.5898 - val_acc: 0.8684\n",
            "Epoch 18/20\n",
            "15000/15000 [==============================] - 3s 194us/sample - loss: 0.0123 - acc: 0.9976 - val_loss: 0.6301 - val_acc: 0.8666\n",
            "Epoch 19/20\n",
            "15000/15000 [==============================] - 3s 196us/sample - loss: 0.0062 - acc: 0.9997 - val_loss: 0.6495 - val_acc: 0.8678\n",
            "Epoch 20/20\n",
            "15000/15000 [==============================] - 3s 195us/sample - loss: 0.0080 - acc: 0.9991 - val_loss: 0.6913 - val_acc: 0.8676\n"
          ],
          "name": "stdout"
        }
      ]
    },
    {
      "cell_type": "code",
      "metadata": {
        "id": "LhFwg3kOGYFC",
        "colab_type": "code",
        "outputId": "d3922d3f-282a-48e5-fe48-cfc7debe7bab",
        "colab": {
          "base_uri": "https://localhost:8080/",
          "height": 34
        }
      },
      "source": [
        "history_dict = history.history\n",
        "history_dict.keys()"
      ],
      "execution_count": 0,
      "outputs": [
        {
          "output_type": "execute_result",
          "data": {
            "text/plain": [
              "dict_keys(['loss', 'acc', 'val_loss', 'val_acc'])"
            ]
          },
          "metadata": {
            "tags": []
          },
          "execution_count": 54
        }
      ]
    },
    {
      "cell_type": "markdown",
      "metadata": {
        "id": "uyhovq2eGwbS",
        "colab_type": "text"
      },
      "source": [
        "Plotting the training and validation loss"
      ]
    },
    {
      "cell_type": "code",
      "metadata": {
        "id": "ERBaCzEOGmwi",
        "colab_type": "code",
        "outputId": "6e13b02f-ca0e-4f41-dd7c-3ed029117ee8",
        "colab": {
          "base_uri": "https://localhost:8080/",
          "height": 295
        }
      },
      "source": [
        "import matplotlib.pyplot as plt\n",
        "\n",
        "acc = history.history['acc']\n",
        "val_acc = history.history['val_acc']\n",
        "loss = history.history['loss']\n",
        "val_loss = history.history['val_loss']\n",
        "epochs = range(1, len(acc) + 1)\n",
        "\n",
        "# \"bo\" is for \"blue dot\"\n",
        "plt.plot(epochs, loss, 'bo', label='Training loss')\n",
        "# b is for \"solid blue line\"\n",
        "plt.plot(epochs, val_loss, 'b', label='Validation loss')\n",
        "plt.title('Training and validation loss')\n",
        "plt.xlabel('Epochs')\n",
        "plt.ylabel('Loss')\n",
        "plt.legend()\n",
        "plt.show()\n"
      ],
      "execution_count": 0,
      "outputs": [
        {
          "output_type": "display_data",
          "data": {
            "image/png": "[encoded data removed]",
            "text/plain": [
              "<Figure size 432x288 with 1 Axes>"
            ]
          },
          "metadata": {
            "tags": []
          }
        }
      ]
    },
    {
      "cell_type": "code",
      "metadata": {
        "id": "dF6hyGYLIO_a",
        "colab_type": "code",
        "outputId": "f9057670-4ede-4cb9-90c8-91aec9bf3e65",
        "colab": {
          "base_uri": "https://localhost:8080/",
          "height": 295
        }
      },
      "source": [
        "acc_values = history_dict['acc']\n",
        "val_acc_values = history_dict['val_acc']\n",
        "\n",
        "plt.plot(epochs, acc, 'bo', label='Training acc')\n",
        "plt.plot(epochs, val_acc, 'b', label='Validation acc')\n",
        "plt.title('Training and validation accuracy')\n",
        "plt.xlabel('Epochs')\n",
        "plt.ylabel('Loss')\n",
        "plt.legend()\n",
        "plt.show()\n"
      ],
      "execution_count": 0,
      "outputs": [
        {
          "output_type": "display_data",
          "data": {
            "image/png": "[encoded data removed]",
            "text/plain": [
              "<Figure size 432x288 with 1 Axes>"
            ]
          },
          "metadata": {
            "tags": []
          }
        }
      ]
    },
    {
      "cell_type": "markdown",
      "metadata": {
        "id": "UOVraVrfJBMS",
        "colab_type": "text"
      },
      "source": [
        "As you can see, the training loss is decreasing with every epoch and the training accuracy increases with every epoch.\n"
      ]
    },
    {
      "cell_type": "markdown",
      "metadata": {
        "id": "fie7tpxAKCBe",
        "colab_type": "text"
      },
      "source": [
        "As for the validation metrics, they seem to peak at fourth epoch. This is an example of **Overfitting**. A model that does perform better on training data isn't necessary a model that will do better on data it has never seen before."
      ]
    },
    {
      "cell_type": "markdown",
      "metadata": {
        "id": "_smT0f7iKudj",
        "colab_type": "text"
      },
      "source": [
        "In precise, after the second epoch, we are over-optimizing on the training data, and we ended up learning representations that are specific to the training data and do not generalize to data outside of the training set."
      ]
    },
    {
      "cell_type": "markdown",
      "metadata": {
        "id": "o3ykf7WBLOgq",
        "colab_type": "text"
      },
      "source": [
        "In order to avoid this, we will create a simplier model with less epochs. "
      ]
    },
    {
      "cell_type": "code",
      "metadata": {
        "id": "rA4biJ9pLWWD",
        "colab_type": "code",
        "colab": {}
      },
      "source": [
        "model_new = models.Sequential()\n",
        "model_new.add( layers.Dense( 16 , activation = 'relu' , input_shape = (priority_of_word,) ) )\n",
        "model_new.add( layers.Dense( 16 , activation = 'relu' ))\n",
        "model_new.add( layers.Dense ( 1 , activation = 'sigmoid'))\n"
      ],
      "execution_count": 0,
      "outputs": []
    },
    {
      "cell_type": "code",
      "metadata": {
        "id": "WBpdkDdjL-wU",
        "colab_type": "code",
        "colab": {}
      },
      "source": [
        "model_new.compile( optimizer = 'rmsprop' , loss = 'binary_crossentropy' , metrics = ['accuracy']  )"
      ],
      "execution_count": 0,
      "outputs": []
    },
    {
      "cell_type": "code",
      "metadata": {
        "id": "m4Tmpg7KMQZX",
        "colab_type": "code",
        "outputId": "ffc8cdaf-eff7-4a1b-d64b-4f7e81fddba2",
        "colab": {
          "base_uri": "https://localhost:8080/",
          "height": 173
        }
      },
      "source": [
        "model_new.fit( partial_x_train , partial_y_train , epochs = 4 , batch_size = 512 )"
      ],
      "execution_count": 0,
      "outputs": [
        {
          "output_type": "stream",
          "text": [
            "Epoch 1/4\n",
            "15000/15000 [==============================] - 2s 149us/sample - loss: 0.5235 - acc: 0.7781\n",
            "Epoch 2/4\n",
            "15000/15000 [==============================] - 2s 144us/sample - loss: 0.3009 - acc: 0.9057\n",
            "Epoch 3/4\n",
            "15000/15000 [==============================] - 2s 144us/sample - loss: 0.2167 - acc: 0.9298\n",
            "Epoch 4/4\n",
            "15000/15000 [==============================] - 2s 140us/sample - loss: 0.1702 - acc: 0.9452\n"
          ],
          "name": "stdout"
        },
        {
          "output_type": "execute_result",
          "data": {
            "text/plain": [
              "<tensorflow.python.keras.callbacks.History at 0x7ff9c8ccc978>"
            ]
          },
          "metadata": {
            "tags": []
          },
          "execution_count": 59
        }
      ]
    },
    {
      "cell_type": "code",
      "metadata": {
        "id": "24WIuW52NC0l",
        "colab_type": "code",
        "outputId": "5b285976-d418-42b4-e205-4ea4fda9b102",
        "colab": {
          "base_uri": "https://localhost:8080/",
          "height": 34
        }
      },
      "source": [
        "results = model_new.evaluate( x_test , y_test )"
      ],
      "execution_count": 0,
      "outputs": [
        {
          "output_type": "stream",
          "text": [
            "25000/25000 [==============================] - 2s 72us/sample - loss: 0.2959 - acc: 0.8822\n"
          ],
          "name": "stdout"
        }
      ]
    },
    {
      "cell_type": "code",
      "metadata": {
        "id": "PpwMJ0cRNgg8",
        "colab_type": "code",
        "outputId": "e749dd2c-aba9-4640-e2eb-c7ed7e603c81",
        "colab": {
          "base_uri": "https://localhost:8080/",
          "height": 139
        }
      },
      "source": [
        "model_new.predict(x_test)"
      ],
      "execution_count": 0,
      "outputs": [
        {
          "output_type": "execute_result",
          "data": {
            "text/plain": [
              "array([[0.28646702],\n",
              "       [0.9996094 ],\n",
              "       [0.9433781 ],\n",
              "       ...,\n",
              "       [0.13435152],\n",
              "       [0.18626553],\n",
              "       [0.71458435]], dtype=float32)"
            ]
          },
          "metadata": {
            "tags": []
          },
          "execution_count": 61
        }
      ]
    },
    {
      "cell_type": "code",
      "metadata": {
        "id": "LbJkCvW7Nq0x",
        "colab_type": "code",
        "outputId": "70281ac7-01c6-4844-eeb4-7e304ca2614b",
        "colab": {
          "base_uri": "https://localhost:8080/",
          "height": 34
        }
      },
      "source": [
        "y_test\n"
      ],
      "execution_count": 0,
      "outputs": [
        {
          "output_type": "execute_result",
          "data": {
            "text/plain": [
              "array([0., 1., 1., ..., 0., 0., 0.], dtype=float32)"
            ]
          },
          "metadata": {
            "tags": []
          },
          "execution_count": 63
        }
      ]
    }
  ]
}