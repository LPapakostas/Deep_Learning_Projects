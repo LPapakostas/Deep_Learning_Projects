{
  "nbformat": 4,
  "nbformat_minor": 0,
  "metadata": {
    "colab": {
      "name": "Classifying_images_to_numbers using_mnist_dataset.ipynb",
      "provenance": [],
      "collapsed_sections": [],
      "include_colab_link": true
    },
    "kernelspec": {
      "name": "python3",
      "display_name": "Python 3"
    },
    "accelerator": "GPU"
  },
  "cells": [
    {
      "cell_type": "markdown",
      "metadata": {
        "id": "view-in-github",
        "colab_type": "text"
      },
      "source": [
        "<a href=\"https://colab.research.google.com/github/LPapakostas/Deep_Learning_Projects/blob/master/Classifying_images_to_numbers_using_mnist_dataset.ipynb\" target=\"_parent\"><img src=\"https://colab.research.google.com/assets/colab-badge.svg\" alt=\"Open In Colab\"/></a>"
      ]
    },
    {
      "cell_type": "markdown",
      "metadata": {
        "id": "GZJDin6SBlWd",
        "colab_type": "text"
      },
      "source": [
        "Classify images to numbers from 1-10"
      ]
    },
    {
      "cell_type": "code",
      "metadata": {
        "id": "Ums1rFc4FtHd",
        "colab_type": "code",
        "colab": {
          "base_uri": "https://localhost:8080/",
          "height": 64
        },
        "outputId": "c62b751f-27fd-4d05-e303-f4dd4dbffb26"
      },
      "source": [
        "import tensorflow as tf\n",
        "from tensorflow.keras.datasets import mnist"
      ],
      "execution_count": 1,
      "outputs": [
        {
          "output_type": "display_data",
          "data": {
            "text/html": [
              "<p style=\"color: red;\">\n",
              "The default version of TensorFlow in Colab will soon switch to TensorFlow 2.x.<br>\n",
              "We recommend you <a href=\"https://www.tensorflow.org/guide/migrate\" target=\"_blank\">upgrade</a> now \n",
              "or ensure your notebook will continue to use TensorFlow 1.x via the <code>%tensorflow_version 1.x</code> magic:\n",
              "<a href=\"https://colab.research.google.com/notebooks/tensorflow_version.ipynb\" target=\"_blank\">more info</a>.</p>\n"
            ],
            "text/plain": [
              "<IPython.core.display.HTML object>"
            ]
          },
          "metadata": {
            "tags": []
          }
        }
      ]
    },
    {
      "cell_type": "code",
      "metadata": {
        "id": "2ZQxh8NTI-p1",
        "colab_type": "code",
        "outputId": "3ed6c539-c35a-404b-b450-dad19f54a149",
        "colab": {
          "base_uri": "https://localhost:8080/",
          "height": 52
        }
      },
      "source": [
        "(train_images, train_labels), (test_images, test_labels) = mnist.load_data()"
      ],
      "execution_count": 2,
      "outputs": [
        {
          "output_type": "stream",
          "text": [
            "Downloading data from https://storage.googleapis.com/tensorflow/tf-keras-datasets/mnist.npz\n",
            "11493376/11490434 [==============================] - 0s 0us/step\n"
          ],
          "name": "stdout"
        }
      ]
    },
    {
      "cell_type": "code",
      "metadata": {
        "id": "LGZIv32wPNKX",
        "colab_type": "code",
        "outputId": "abd5675e-1faa-4732-e963-3f0204575624",
        "colab": {
          "base_uri": "https://localhost:8080/",
          "height": 265
        }
      },
      "source": [
        "digit = train_images[4]\n",
        "\n",
        "import matplotlib.pyplot as plt\n",
        "plt.imshow(digit, cmap=plt.cm.binary)\n",
        "plt.show()\n"
      ],
      "execution_count": 3,
      "outputs": [
        {
          "output_type": "display_data",
          "data": {
            "image/png": "[encoded data removed]",
            "text/plain": [
              "<Figure size 432x288 with 1 Axes>"
            ]
          },
          "metadata": {
            "tags": []
          }
        }
      ]
    },
    {
      "cell_type": "markdown",
      "metadata": {
        "id": "r5jAZ2nZJFau",
        "colab_type": "text"
      },
      "source": [
        "First, we will present our neural network with the training data, **train_images** and **train_labels**. The network then will learn to assosiate images and labels. Finally, we will ask the network to produce the predictions for **test_images**, and then we will verify if these predictions match the labels from **test_labels**.\n"
      ]
    },
    {
      "cell_type": "code",
      "metadata": {
        "id": "eKB499AkJHB8",
        "colab_type": "code",
        "colab": {}
      },
      "source": [
        "from tensorflow.keras import models,layers"
      ],
      "execution_count": 0,
      "outputs": []
    },
    {
      "cell_type": "code",
      "metadata": {
        "id": "PkjXg70JJJH1",
        "colab_type": "code",
        "outputId": "378ca6af-4db5-4865-a391-376ba98fdf6c",
        "colab": {
          "base_uri": "https://localhost:8080/",
          "height": 89
        }
      },
      "source": [
        "network = models.Sequential([ layers.Dense(512, activation='relu', input_shape=(28 * 28,) )  , layers.Dense(10, activation='softmax') ])"
      ],
      "execution_count": 5,
      "outputs": [
        {
          "output_type": "stream",
          "text": [
            "WARNING:tensorflow:From /usr/local/lib/python3.6/dist-packages/tensorflow_core/python/ops/resource_variable_ops.py:1630: calling BaseResourceVariable.__init__ (from tensorflow.python.ops.resource_variable_ops) with constraint is deprecated and will be removed in a future version.\n",
            "Instructions for updating:\n",
            "If using Keras pass *_constraint arguments to layers.\n"
          ],
          "name": "stdout"
        }
      ]
    },
    {
      "cell_type": "markdown",
      "metadata": {
        "id": "hU1IofySJR_H",
        "colab_type": "text"
      },
      "source": [
        "Our network consists of a sequence of 2 *Dense* layers , which are full-connected neural layers.\n",
        "The last layer is a 10-way \"softmax\" layer that will return the probability that the current digit image belongs to one of 10 classes (0-10 digit)."
      ]
    },
    {
      "cell_type": "code",
      "metadata": {
        "id": "nLOsBbbrJUoS",
        "colab_type": "code",
        "colab": {}
      },
      "source": [
        "network.compile(optimizer='rmsprop', loss='categorical_crossentropy', metrics=['accuracy'])"
      ],
      "execution_count": 0,
      "outputs": []
    },
    {
      "cell_type": "markdown",
      "metadata": {
        "id": "rBbWhxQsJZ4j",
        "colab_type": "text"
      },
      "source": [
        "Before training, we will preprocess our data by reshaping it into the shape that the\n",
        "network expects, and scaling it so that all values are in the [0, 1] interval. "
      ]
    },
    {
      "cell_type": "code",
      "metadata": {
        "id": "7BMAxe4HJdB_",
        "colab_type": "code",
        "colab": {}
      },
      "source": [
        "train_images = train_images.reshape((60000, 28 * 28))\n",
        "train_images = train_images.astype('float32') / 255\n",
        "\n",
        "test_images = test_images.reshape((10000, 28 * 28))\n",
        "test_images = test_images.astype('float32') / 255"
      ],
      "execution_count": 0,
      "outputs": []
    },
    {
      "cell_type": "code",
      "metadata": {
        "id": "5CSWjszPJfn_",
        "colab_type": "code",
        "colab": {}
      },
      "source": [
        "from tensorflow.keras.utils import to_categorical\n",
        "train_labels = to_categorical(train_labels)\n",
        "test_labels = to_categorical(test_labels)"
      ],
      "execution_count": 0,
      "outputs": []
    },
    {
      "cell_type": "code",
      "metadata": {
        "id": "rm1eqsqyJiJy",
        "colab_type": "code",
        "outputId": "9ea57a4a-ac6b-4ffa-c576-2a4dbbf8b101",
        "colab": {
          "base_uri": "https://localhost:8080/",
          "height": 225
        }
      },
      "source": [
        "network.fit(train_images, train_labels, epochs=5, batch_size=128)"
      ],
      "execution_count": 9,
      "outputs": [
        {
          "output_type": "stream",
          "text": [
            "Train on 60000 samples\n",
            "Epoch 1/5\n",
            "60000/60000 [==============================] - 3s 43us/sample - loss: 0.2551 - acc: 0.9259\n",
            "Epoch 2/5\n",
            "60000/60000 [==============================] - 2s 32us/sample - loss: 0.1048 - acc: 0.9695\n",
            "Epoch 3/5\n",
            "60000/60000 [==============================] - 2s 31us/sample - loss: 0.0686 - acc: 0.9797\n",
            "Epoch 4/5\n",
            "60000/60000 [==============================] - 2s 30us/sample - loss: 0.0508 - acc: 0.9848\n",
            "Epoch 5/5\n",
            "60000/60000 [==============================] - 2s 31us/sample - loss: 0.0369 - acc: 0.9894\n"
          ],
          "name": "stdout"
        },
        {
          "output_type": "execute_result",
          "data": {
            "text/plain": [
              "<tensorflow.python.keras.callbacks.History at 0x7fa5d97ab978>"
            ]
          },
          "metadata": {
            "tags": []
          },
          "execution_count": 9
        }
      ]
    },
    {
      "cell_type": "code",
      "metadata": {
        "id": "vVeP4lUeJmEO",
        "colab_type": "code",
        "outputId": "8c9e6453-298b-424e-9525-71484bc22d28",
        "colab": {
          "base_uri": "https://localhost:8080/",
          "height": 52
        }
      },
      "source": [
        "test_loss, test_acc = network.evaluate(test_images, test_labels)\n",
        "print('test_acc:', test_acc)"
      ],
      "execution_count": 10,
      "outputs": [
        {
          "output_type": "stream",
          "text": [
            "10000/10000 [==============================] - 1s 76us/sample - loss: 0.0709 - acc: 0.9780\n",
            "test_acc: 0.978\n"
          ],
          "name": "stdout"
        }
      ]
    }
  ]
}